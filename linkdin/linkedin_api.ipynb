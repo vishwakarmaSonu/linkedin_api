{
 "cells": [
  {
   "cell_type": "code",
   "execution_count": 2,
   "id": "6c8299f9",
   "metadata": {},
   "outputs": [
    {
     "name": "stdout",
     "output_type": "stream",
     "text": [
      "Enter first name: sonu\n",
      "Enter last name: sharma\n",
      "Data saved to linkedin_users.csv\n"
     ]
    }
   ],
   "source": [
    "import requests\n",
    "import csv\n",
    "\n",
    "# Function to search for users using LinkedIn API\n",
    "def search_users(first_name, last_name):\n",
    "    # LinkedIn API endpoint for searching people\n",
    "    url = f\"https://api.linkedin.com/v2/people-search?q=(firstName:{first_name},lastName:{last_name})&count=10\"\n",
    "\n",
    "    # Make a GET request to the API\n",
    "    # Note: You'll need to replace 'YOUR_ACCESS_TOKEN' with your actual LinkedIn API access token\n",
    "    headers = {\"Authorization\": \"Bearer Your_access_token\"}\n",
    "    response = requests.get(url, headers=headers)\n",
    "    print(response)\n",
    "\n",
    "    # Check  request\n",
    "    if response.status_code == 200:\n",
    "        return response.json()\n",
    "    else:\n",
    "        print(\"Error:\", response.status_code)\n",
    "        return None\n",
    "\n",
    "# Function to extract relevant data from the API response\n",
    "def extract_data(response):\n",
    "    data = []\n",
    "    if response and 'elements' in response:\n",
    "        for user in response['elements']:\n",
    "            first_name = user['firstName']\n",
    "            last_name = user['lastName']\n",
    "          \n",
    "            data.append({'First Name': first_name, 'Last Name': last_name})\n",
    "    return data\n",
    "\n",
    "# Function to save data into a CSV file\n",
    "def save_to_csv(data):\n",
    "    with open('linkedin_users.csv', 'w', newline='', encoding='utf-8') as csvfile:\n",
    "        fieldnames = ['First Name', 'Last Name']\n",
    "        writer = csv.DictWriter(csvfile, fieldnames=fieldnames)\n",
    "        writer.writeheader()\n",
    "        for user in data:\n",
    "            writer.writerow(user)\n",
    "\n",
    "# Main function\n",
    "def main():\n",
    "    first_name = input(\"Enter first name: \")\n",
    "    last_name = input(\"Enter last name: \")\n",
    "\n",
    "    response = search_users(first_name, last_name)\n",
    "    if response:\n",
    "        data = extract_data(response)\n",
    "        save_to_csv(data)\n",
    "        print(\"Data saved to linkedin_users.csv\")\n",
    "    else:\n",
    "        print(\"No data found or error occurred\")\n",
    "\n",
    "if __name__ == \"__main__\":\n",
    "    main()\n"
   ]
  },
  {
   "cell_type": "code",
   "execution_count": null,
   "id": "15701899",
   "metadata": {},
   "outputs": [],
   "source": []
  },
  {
   "cell_type": "code",
   "execution_count": null,
   "id": "9de0a7a8",
   "metadata": {},
   "outputs": [],
   "source": []
  }
 ],
 "metadata": {
  "kernelspec": {
   "display_name": "Python 3 (ipykernel)",
   "language": "python",
   "name": "python3"
  },
  "language_info": {
   "codemirror_mode": {
    "name": "ipython",
    "version": 3
   },
   "file_extension": ".py",
   "mimetype": "text/x-python",
   "name": "python",
   "nbconvert_exporter": "python",
   "pygments_lexer": "ipython3",
   "version": "3.8.3"
  }
 },
 "nbformat": 4,
 "nbformat_minor": 5
}
